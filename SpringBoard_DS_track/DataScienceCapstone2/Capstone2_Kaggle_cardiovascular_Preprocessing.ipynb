{
 "cells": [
  {
   "cell_type": "markdown",
   "id": "e47d3b0c",
   "metadata": {},
   "source": [
    "### Import the dataset and using pandas_profiling for preliminary exploratory analysis"
   ]
  },
  {
   "cell_type": "code",
   "execution_count": 7,
   "id": "0016eb70",
   "metadata": {},
   "outputs": [],
   "source": [
    "from pathlib import Path\n",
    "\n",
    "import requests\n",
    "import numpy as np\n",
    "import pandas as pd\n",
    "\n",
    "import pandas_profiling\n",
    "from pandas_profiling.utils.cache import cache_file\n",
    "\n",
    "import matplotlib.pyplot as plt\n",
    "import seaborn as sns\n"
   ]
  },
  {
   "cell_type": "code",
   "execution_count": 8,
   "id": "2e91e337",
   "metadata": {},
   "outputs": [
    {
     "name": "stdout",
     "output_type": "stream",
     "text": [
      "The current data shape is (68588, 11)\n"
     ]
    },
    {
     "data": {
      "text/html": [
       "<div>\n",
       "<style scoped>\n",
       "    .dataframe tbody tr th:only-of-type {\n",
       "        vertical-align: middle;\n",
       "    }\n",
       "\n",
       "    .dataframe tbody tr th {\n",
       "        vertical-align: top;\n",
       "    }\n",
       "\n",
       "    .dataframe thead th {\n",
       "        text-align: right;\n",
       "    }\n",
       "</style>\n",
       "<table border=\"1\" class=\"dataframe\">\n",
       "  <thead>\n",
       "    <tr style=\"text-align: right;\">\n",
       "      <th></th>\n",
       "      <th>age</th>\n",
       "      <th>gender</th>\n",
       "      <th>ap_hi</th>\n",
       "      <th>ap_lo</th>\n",
       "      <th>cholesterol</th>\n",
       "      <th>gluc</th>\n",
       "      <th>smoke</th>\n",
       "      <th>alco</th>\n",
       "      <th>active</th>\n",
       "      <th>cardio</th>\n",
       "      <th>BMI</th>\n",
       "    </tr>\n",
       "    <tr>\n",
       "      <th>id</th>\n",
       "      <th></th>\n",
       "      <th></th>\n",
       "      <th></th>\n",
       "      <th></th>\n",
       "      <th></th>\n",
       "      <th></th>\n",
       "      <th></th>\n",
       "      <th></th>\n",
       "      <th></th>\n",
       "      <th></th>\n",
       "      <th></th>\n",
       "    </tr>\n",
       "  </thead>\n",
       "  <tbody>\n",
       "    <tr>\n",
       "      <th>0</th>\n",
       "      <td>50.391781</td>\n",
       "      <td>0.494708</td>\n",
       "      <td>110</td>\n",
       "      <td>80</td>\n",
       "      <td>0.494708</td>\n",
       "      <td>0.494708</td>\n",
       "      <td>0.494708</td>\n",
       "      <td>0.494708</td>\n",
       "      <td>0.494708</td>\n",
       "      <td>0</td>\n",
       "      <td>21.967120</td>\n",
       "    </tr>\n",
       "    <tr>\n",
       "      <th>1</th>\n",
       "      <td>55.419178</td>\n",
       "      <td>0.494708</td>\n",
       "      <td>140</td>\n",
       "      <td>90</td>\n",
       "      <td>0.494708</td>\n",
       "      <td>0.247354</td>\n",
       "      <td>0.247354</td>\n",
       "      <td>0.247354</td>\n",
       "      <td>0.247354</td>\n",
       "      <td>1</td>\n",
       "      <td>34.927679</td>\n",
       "    </tr>\n",
       "    <tr>\n",
       "      <th>2</th>\n",
       "      <td>51.663014</td>\n",
       "      <td>0.747354</td>\n",
       "      <td>130</td>\n",
       "      <td>70</td>\n",
       "      <td>0.747354</td>\n",
       "      <td>0.498236</td>\n",
       "      <td>0.498236</td>\n",
       "      <td>0.498236</td>\n",
       "      <td>0.494708</td>\n",
       "      <td>1</td>\n",
       "      <td>23.507805</td>\n",
       "    </tr>\n",
       "    <tr>\n",
       "      <th>3</th>\n",
       "      <td>48.282192</td>\n",
       "      <td>0.247354</td>\n",
       "      <td>150</td>\n",
       "      <td>100</td>\n",
       "      <td>0.247354</td>\n",
       "      <td>0.623677</td>\n",
       "      <td>0.623677</td>\n",
       "      <td>0.623677</td>\n",
       "      <td>0.498236</td>\n",
       "      <td>1</td>\n",
       "      <td>28.710479</td>\n",
       "    </tr>\n",
       "    <tr>\n",
       "      <th>4</th>\n",
       "      <td>47.873973</td>\n",
       "      <td>0.831569</td>\n",
       "      <td>100</td>\n",
       "      <td>60</td>\n",
       "      <td>0.498236</td>\n",
       "      <td>0.698942</td>\n",
       "      <td>0.698942</td>\n",
       "      <td>0.698942</td>\n",
       "      <td>0.747354</td>\n",
       "      <td>0</td>\n",
       "      <td>23.011177</td>\n",
       "    </tr>\n",
       "  </tbody>\n",
       "</table>\n",
       "</div>"
      ],
      "text/plain": [
       "          age    gender  ap_hi  ap_lo  cholesterol      gluc     smoke  \\\n",
       "id                                                                       \n",
       "0   50.391781  0.494708    110     80     0.494708  0.494708  0.494708   \n",
       "1   55.419178  0.494708    140     90     0.494708  0.247354  0.247354   \n",
       "2   51.663014  0.747354    130     70     0.747354  0.498236  0.498236   \n",
       "3   48.282192  0.247354    150    100     0.247354  0.623677  0.623677   \n",
       "4   47.873973  0.831569    100     60     0.498236  0.698942  0.698942   \n",
       "\n",
       "        alco    active  cardio        BMI  \n",
       "id                                         \n",
       "0   0.494708  0.494708       0  21.967120  \n",
       "1   0.247354  0.247354       1  34.927679  \n",
       "2   0.498236  0.494708       1  23.507805  \n",
       "3   0.623677  0.498236       1  28.710479  \n",
       "4   0.698942  0.747354       0  23.011177  "
      ]
     },
     "execution_count": 8,
     "metadata": {},
     "output_type": "execute_result"
    }
   ],
   "source": [
    "#Load the Kaggle cardiovascular dataset after EDA (same as the data set after data wrangling)\n",
    "\n",
    "full_data = pd.read_csv('cardiovascular_data_after_data_wrangling.csv', index_col='id')\n",
    "\n",
    "print(f\"The current data shape is {full_data.shape}\");\n",
    "full_data.head()"
   ]
  },
  {
   "cell_type": "code",
   "execution_count": 9,
   "id": "cf52d7af",
   "metadata": {},
   "outputs": [
    {
     "name": "stdout",
     "output_type": "stream",
     "text": [
      "X shape is (68588, 10)\n",
      "y shape is (68588,)\n"
     ]
    }
   ],
   "source": [
    "#Get X y values\n",
    "X = full_data.drop(columns=['cardio'])\n",
    "y = full_data.cardio\n",
    "\n",
    "print(f\"X shape is {X.shape}\")\n",
    "print(f\"y shape is {y.shape}\")"
   ]
  },
  {
   "cell_type": "markdown",
   "id": "4a16e27b",
   "metadata": {},
   "source": [
    "###  <font color='red'>Can CatBoost Encoder performed before train-test data splitting? (The encoder itself adds randomness to cateogorical features to prevent information leakage) Q2: when to use min-max or Starndard Scaler N(0,1) normalization? Q3: How to determine train and test splitting ratio??<font>"
   ]
  },
  {
   "cell_type": "code",
   "execution_count": 10,
   "id": "e1d5dc74",
   "metadata": {},
   "outputs": [],
   "source": [
    "#split train and test dataset\n",
    "'''\n",
    "#Scale on train data and fit on test dataset to provent information leakage\n",
    "'''\n",
    "from sklearn.model_selection import train_test_split\n",
    "from sklearn.preprocessing import StandardScaler\n",
    "import pickle\n",
    "\n",
    "split_ratio = 0.2\n",
    "\n",
    "X_train, X_test, y_train, y_test = train_test_split(X, y, test_size=split_ratio, random_state=42)\n",
    "\n",
    "\n",
    "sc = StandardScaler()\n",
    "\n",
    "\n",
    "X_train = sc.fit_transform(X_train)\n",
    "\n",
    "X_test = sc.transform(X_test)\n",
    "\n",
    "\n",
    "'''\n",
    "What is the best way to save variables in python???\n",
    "'''\n",
    "with open('train_test_data_from_preprocessing.pkl', 'wb') as f:\n",
    "    pickle.dump([X_train, X_test, y_train, y_test], f)\n",
    "f.close()\n"
   ]
  },
  {
   "cell_type": "code",
   "execution_count": null,
   "id": "5c3bd336",
   "metadata": {},
   "outputs": [],
   "source": []
  }
 ],
 "metadata": {
  "kernelspec": {
   "display_name": "Python 3 (ipykernel)",
   "language": "python",
   "name": "python3"
  },
  "language_info": {
   "codemirror_mode": {
    "name": "ipython",
    "version": 3
   },
   "file_extension": ".py",
   "mimetype": "text/x-python",
   "name": "python",
   "nbconvert_exporter": "python",
   "pygments_lexer": "ipython3",
   "version": "3.8.11"
  }
 },
 "nbformat": 4,
 "nbformat_minor": 5
}
