{
 "cells": [
  {
   "cell_type": "markdown",
   "id": "e47d3b0c",
   "metadata": {},
   "source": [
    "### Import modules"
   ]
  },
  {
   "cell_type": "code",
   "execution_count": 3,
   "id": "0016eb70",
   "metadata": {},
   "outputs": [],
   "source": [
    "import numpy as np\n",
    "import pandas as pd\n",
    "import matplotlib.pyplot as plt\n",
    "import seaborn as sns\n",
    "import pickle\n",
    "\n",
    "from sklearn.model_selection import train_test_split, cross_validate, GridSearchCV, RandomizedSearchCV, learning_curve\n",
    "from sklearn.preprocessing import StandardScaler\n",
    "from sklearn.metrics import confusion_matrix\n",
    "from sklearn.metrics import roc_auc_score, RocCurveDisplay\n",
    "\n",
    "from sklearn.linear_model import LogisticRegression\n",
    "from sklearn.svm import SVC\n",
    "from sklearn.ensemble import RandomForestClassifier\n",
    "from xgboost import XGBClassifier\n",
    "\n",
    "\n",
    "from sklearn.model_selection import RandomizedSearchCV\n",
    "from bayes_opt import BayesianOptimization\n",
    "\n"
   ]
  },
  {
   "cell_type": "markdown",
   "id": "1056a212",
   "metadata": {},
   "source": [
    "### Load the train and test data and labels"
   ]
  },
  {
   "cell_type": "code",
   "execution_count": 4,
   "id": "2e91e337",
   "metadata": {},
   "outputs": [],
   "source": [
    "#Load the splited and scaled train and test datasets\n",
    "with open('train_test_data_from_preprocessing.pkl', 'rb') as f: \n",
    "#with open('train_test_data_from_featuretools.pkl', 'rb') as f:\n",
    "#with open('train_test_data_from_proprocessing_plus_PCA.pkl', 'rb') as f:\n",
    "\n",
    "    X_train, X_test, y_train, y_test  = pickle.load(f)\n",
    "f.close()"
   ]
  },
  {
   "cell_type": "code",
   "execution_count": 5,
   "id": "98f1bf79",
   "metadata": {},
   "outputs": [
    {
     "data": {
      "text/plain": [
       "array([[-0.22948083, -0.18337051, -0.40078842, ...,  0.31307138,\n",
       "        -0.38953921,  1.12892245],\n",
       "       [-0.58359088, -0.24233624, -0.58083903, ..., -0.80560901,\n",
       "        -0.72967457, -0.89599049],\n",
       "       [ 1.00077778, -0.3525324 ,  0.79954894, ..., -0.29300871,\n",
       "        -0.55591917,  1.83652288],\n",
       "       ...,\n",
       "       [-0.21528398, -0.09552832, -0.40078842, ...,  0.34795806,\n",
       "        -0.39913078, -0.31662474],\n",
       "       [ 1.04296271,  3.48360111,  0.19938026, ...,  1.56261027,\n",
       "         0.48741986, -0.5378388 ],\n",
       "       [-0.12969725, -0.36743729, -0.40078842, ..., -0.41054333,\n",
       "        -0.61469247, -1.00343423]])"
      ]
     },
     "execution_count": 5,
     "metadata": {},
     "output_type": "execute_result"
    }
   ],
   "source": [
    "X_train"
   ]
  },
  {
   "cell_type": "code",
   "execution_count": 6,
   "id": "cf52d7af",
   "metadata": {},
   "outputs": [
    {
     "name": "stdout",
     "output_type": "stream",
     "text": [
      "X train shape is (54870, 10)\n",
      "y train shape is (54870,)\n",
      "X test shape is (13718, 10)\n",
      "y test shape is (13718,)\n"
     ]
    }
   ],
   "source": [
    "#Get train and test feature and label shapes\n",
    "\n",
    "print(f\"X train shape is {X_train.shape}\")\n",
    "print(f\"y train shape is {y_train.shape}\")\n",
    "\n",
    "print(f\"X test shape is {X_test.shape}\")\n",
    "print(f\"y test shape is {y_test.shape}\")"
   ]
  },
  {
   "cell_type": "code",
   "execution_count": 7,
   "id": "4a3ba3f8",
   "metadata": {},
   "outputs": [
    {
     "name": "stdout",
     "output_type": "stream",
     "text": [
      "Train data preview:\n",
      "[[-0.22948083 -0.18337051 -0.40078842 -0.13725273  0.91416625 -0.38890813\n",
      "   0.37981711  0.31307138 -0.38953921  1.12892245]\n",
      " [-0.58359088 -0.24233624 -0.58083903 -0.87732264  0.49386857  2.44576586\n",
      "  -0.2478681  -0.80560901 -0.72967457 -0.89599049]\n",
      " [ 1.00077778 -0.3525324   0.79954894 -0.13725273  2.3698781   1.59021888\n",
      "  -0.05458628 -0.29300871 -0.55591917  1.83652288]\n",
      " [ 0.99996653 -0.40356378 -1.60112578 -1.19449546 -0.54385753 -0.45170678\n",
      "  -0.19472722 -0.41470217 -0.61483446 -0.34453527]\n",
      " [ 1.01740837  0.10994753 -1.0009571  -1.19449546 -0.53629182 -0.42214994\n",
      "   0.14819313  0.0370503  -0.51132349 -0.43135029]]\n",
      "id\n",
      "98172    1\n",
      "3299     0\n",
      "20349    1\n",
      "21314    0\n",
      "48512    0\n",
      "Name: cardio, dtype: int64\n",
      "Test data preview:\n",
      "[[-0.50773913 -0.55354677 -0.40078842 -0.13725273  2.34153675  2.61211461\n",
      "  -0.19730738 -0.46801081 -0.62225061 -0.05246727]\n",
      " [ 0.12990233 -0.60880206 -0.40078842 -0.13725273 -0.5657923  -0.47902721\n",
      "  -0.18149661 -0.43039188 -0.68537316  1.3845591 ]\n",
      " [-0.45987546  0.78702727 -0.40078842 -0.13725273 -0.48241007 -0.27928719\n",
      "   0.76541669  0.6532238   2.22175167 -0.84994347]\n",
      " [-0.49354228 -0.10393312 -1.0009571  -1.19449546 -0.51999567 -0.38469243\n",
      "   0.41191992  0.34588205  1.97359907  0.70825329]\n",
      " [ 0.30594329  0.14910578  1.9998863   1.97723274 -0.54463247 -0.43528697\n",
      "   0.0340404  -0.12471329 -0.5595549  -0.2722439 ]]\n",
      "id\n",
      "23457    1\n",
      "34734    0\n",
      "10777    1\n",
      "79965    0\n",
      "42685    1\n",
      "Name: cardio, dtype: int64\n"
     ]
    }
   ],
   "source": [
    "print(\"Train data preview:\")\n",
    "print(X_train[:5, :])\n",
    "print(y_train[:5])\n",
    "\n",
    "print(\"Test data preview:\")\n",
    "print(X_test[:5, :])\n",
    "print(y_test[:5])\n"
   ]
  },
  {
   "cell_type": "markdown",
   "id": "63b7ddaf",
   "metadata": {},
   "source": [
    "### Model 1: Regularized Logistical Regression (Lasso, Ridge Regression and Elastic Net)"
   ]
  },
  {
   "cell_type": "code",
   "execution_count": 7,
   "id": "5c3bd336",
   "metadata": {},
   "outputs": [
    {
     "data": {
      "text/plain": [
       "GridSearchCV(cv=5, estimator=LogisticRegression(), n_jobs=-1,\n",
       "             param_grid=[{'C': [0.001, 0.01, 0.1, 1, 10, 100],\n",
       "                          'penalty': ['l1', 'l2'], 'solver': ['saga']},\n",
       "                         {'C': [0.001, 0.01, 0.1, 1, 10, 100],\n",
       "                          'l1_ratio': [0.1, 0.2, 0.3, 0.4, 0.5, 0.6, 0.7, 0.8,\n",
       "                                       0.9],\n",
       "                          'penalty': ['elasticnet'], 'solver': ['saga']}])"
      ]
     },
     "execution_count": 7,
     "metadata": {},
     "output_type": "execute_result"
    }
   ],
   "source": [
    "#grid search:\n",
    "#the grid of parameters to search over\n",
    "\n",
    "Cs = [0.001,0.01,0.1,1,10,100]\n",
    "penalty = ['l1', 'l2', 'elasticnet']\n",
    "#select sage as it works for all three type of penalties and is more efficient for large dataset\n",
    "solver = ['saga'] \n",
    "#l1 ratio specific for elasticnet\n",
    "l1_ratio = [0.1, 0.2, 0.3, 0.4, 0.5, 0.6, 0.7, 0.8, 0.9]\n",
    "\n",
    "grid_params = [{\n",
    "        'C': Cs,\n",
    "        'penalty': ['l1', 'l2'],\n",
    "        'solver': solver,\n",
    "    \n",
    "},\n",
    "    {'C': Cs,\n",
    "        'penalty': ['elasticnet'],\n",
    "        'solver': solver,\n",
    "        'l1_ratio': l1_ratio}\n",
    "]\n",
    "\n",
    "#grid search on the training dataset\n",
    "lr_model = LogisticRegression()\n",
    "lr_grid_cv = GridSearchCV(lr_model, param_grid=grid_params, cv=5, n_jobs=-1)\n",
    "lr_grid_cv.fit(X_train, y_train)"
   ]
  },
  {
   "cell_type": "code",
   "execution_count": 8,
   "id": "ccedc551",
   "metadata": {},
   "outputs": [
    {
     "name": "stdout",
     "output_type": "stream",
     "text": [
      "The best setting from grid search is {'C': 0.01, 'l1_ratio': 0.5, 'penalty': 'elasticnet', 'solver': 'saga'}\n"
     ]
    }
   ],
   "source": [
    "#get the best parameters from Logistic regression\n",
    "print(f\"The best setting from grid search is {lr_grid_cv.best_params_}\")"
   ]
  },
  {
   "cell_type": "code",
   "execution_count": 9,
   "id": "6d0818fd",
   "metadata": {},
   "outputs": [
    {
     "name": "stdout",
     "output_type": "stream",
     "text": [
      "Precision of the cv results is [0.72710432 0.7304374  0.7270003  0.73010438 0.73172602]\n",
      "Recall of the cv results is [0.72387327 0.72754839 0.72348782 0.72649139 0.72782926]\n"
     ]
    }
   ],
   "source": [
    "#using best setting to fit and cv on train data, predict on test data, to obtain confusion matrix and ROC curves\n",
    "from sklearn.metrics import recall_score\n",
    "scoring = ['precision_macro', 'recall_macro']\n",
    "lr_best_cv_results = cross_validate(lr_grid_cv.best_estimator_, X_train, y_train, cv=5, scoring=scoring)\n",
    "print(f\"Precision of the cv results is {lr_best_cv_results['test_precision_macro']}\")\n",
    "print(f\"Recall of the cv results is {lr_best_cv_results['test_recall_macro']}\")"
   ]
  },
  {
   "cell_type": "code",
   "execution_count": 10,
   "id": "ae8a6b9d",
   "metadata": {},
   "outputs": [
    {
     "name": "stdout",
     "output_type": "stream",
     "text": [
      "With Elestic Net, the confusion matrix is:\n",
      "[[5551 1445]\n",
      " [2240 4482]]\n",
      "The overall accuracy of Elestic Net is 0.7313748359819215\n"
     ]
    }
   ],
   "source": [
    "#prediction on test dataset\n",
    "\n",
    "\n",
    "lr_best = lr_grid_cv.best_estimator_\n",
    "\n",
    "lr_best.fit(X_train, y_train)\n",
    "\n",
    "y_pred_lr  = lr_best.predict(X_test)\n",
    "\n",
    "\n",
    "\n",
    "\n",
    "cnf_matrix= confusion_matrix(y_test,y_pred_lr)\n",
    "print(f\"With Elestic Net, the confusion matrix is:\\n{cnf_matrix}\")\n",
    "Accuracy_lr=lr_best.score(X_test,y_test)\n",
    "\n",
    "print(f\"The overall accuracy of Elestic Net is {Accuracy_lr}\")"
   ]
  },
  {
   "cell_type": "code",
   "execution_count": 11,
   "id": "6c07c222",
   "metadata": {},
   "outputs": [
    {
     "data": {
      "image/png": "[encoded data removed]",
      "text/plain": [
       "<Figure size 432x288 with 1 Axes>"
      ]
     },
     "metadata": {
      "needs_background": "light"
     },
     "output_type": "display_data"
    }
   ],
   "source": [
    "#Plot ROC curve and AUC score\n",
    "\n",
    "\n",
    "auc_score = roc_auc_score(y_test, y_pred_lr)\n",
    "\n",
    "RocCurveDisplay.from_estimator(lr_best, X_test, y_test, pos_label=1, linewidth=2.0)\n",
    "plt.legend('')\n",
    "plt.xlabel(\"False Positive Rate\", size=15)\n",
    "plt.ylabel(\"True Positive Rate\", size=15)\n",
    "plt.title(f\"ROC Elastic Net (AUC: {round(auc_score, 4)})\", size=15)\n",
    "plt.plot([0, 1], [0, 1],'r--', alpha=0.5)\n",
    "plt.xlim([0, 1])\n",
    "plt.ylim([0, 1])\n",
    "\n",
    "plt.show()\n",
    "\n"
   ]
  },
  {
   "cell_type": "markdown",
   "id": "56728f57",
   "metadata": {},
   "source": [
    "### Model 2 Support Vector Machine"
   ]
  },
  {
   "cell_type": "code",
   "execution_count": 8,
   "id": "e782419e",
   "metadata": {},
   "outputs": [],
   "source": [
    "def svc_eval(C, gamma):\n",
    "    svc = SVC(C=C, gamma=gamma, kernel='rbf', random_state=42, verbose=0)\n",
    "                       \n",
    "    \n",
    "    \n",
    "    #check on the roc_auc scores\n",
    "    cv_score = cross_validate(svc, X_train, y_train, cv=5, scoring='roc_auc')\n",
    "    \n",
    "    \n",
    "    return np.mean(cv_score['test_score'])"
   ]
  },
  {
   "cell_type": "code",
   "execution_count": 9,
   "id": "a7fa673b",
   "metadata": {},
   "outputs": [
    {
     "name": "stdout",
     "output_type": "stream",
     "text": [
      "|   iter    |  target   |     C     |   gamma   |\n",
      "-------------------------------------------------\n",
      "| \u001b[0m 1       \u001b[0m | \u001b[0m 0.7753  \u001b[0m | \u001b[0m 0.2435  \u001b[0m | \u001b[0m 0.6388  \u001b[0m |\n",
      "| \u001b[0m 2       \u001b[0m | \u001b[0m 0.7727  \u001b[0m | \u001b[0m 0.3744  \u001b[0m | \u001b[0m 0.7359  \u001b[0m |\n",
      "| \u001b[95m 3       \u001b[0m | \u001b[95m 0.7788  \u001b[0m | \u001b[95m 0.7012  \u001b[0m | \u001b[95m 0.3585  \u001b[0m |\n",
      "| \u001b[0m 4       \u001b[0m | \u001b[0m 0.7709  \u001b[0m | \u001b[0m 0.2987  \u001b[0m | \u001b[0m 0.9052  \u001b[0m |\n",
      "| \u001b[95m 5       \u001b[0m | \u001b[95m 0.7908  \u001b[0m | \u001b[95m 0.2515  \u001b[0m | \u001b[95m 0.03519 \u001b[0m |\n",
      "| \u001b[0m 6       \u001b[0m | \u001b[0m 0.7806  \u001b[0m | \u001b[0m 0.001   \u001b[0m | \u001b[0m 0.01    \u001b[0m |\n",
      "| \u001b[95m 7       \u001b[0m | \u001b[95m 0.791   \u001b[0m | \u001b[95m 0.2602  \u001b[0m | \u001b[95m 0.03194 \u001b[0m |\n",
      "| \u001b[95m 8       \u001b[0m | \u001b[95m 0.7915  \u001b[0m | \u001b[95m 0.6028  \u001b[0m | \u001b[95m 0.01    \u001b[0m |\n",
      "| \u001b[0m 9       \u001b[0m | \u001b[0m 0.7875  \u001b[0m | \u001b[0m 0.1575  \u001b[0m | \u001b[0m 0.1486  \u001b[0m |\n",
      "| \u001b[95m 10      \u001b[0m | \u001b[95m 0.7917  \u001b[0m | \u001b[95m 0.9971  \u001b[0m | \u001b[95m 0.01078 \u001b[0m |\n",
      "| \u001b[0m 11      \u001b[0m | \u001b[0m 0.7641  \u001b[0m | \u001b[0m 1.0     \u001b[0m | \u001b[0m 1.0     \u001b[0m |\n",
      "| \u001b[0m 12      \u001b[0m | \u001b[0m 0.7916  \u001b[0m | \u001b[0m 0.829   \u001b[0m | \u001b[0m 0.01    \u001b[0m |\n",
      "=================================================\n"
     ]
    }
   ],
   "source": [
    "svcBO = BayesianOptimization(svc_eval, {'C': (0.001,1),\n",
    "                                                'gamma': (0.01, 1)\n",
    "                                                })\n",
    "\n",
    "svcBO.maximize(n_iter=10, init_points=2)"
   ]
  },
  {
   "cell_type": "code",
   "execution_count": 10,
   "id": "21352b42",
   "metadata": {},
   "outputs": [
    {
     "name": "stdout",
     "output_type": "stream",
     "text": [
      "Best setting for SVC from Bayesian optimization is {'target': 0.7917022644188817, 'params': {'C': 0.9971465218523063, 'gamma': 0.010778785737534278}}\n"
     ]
    }
   ],
   "source": [
    "print(f\"Best setting for SVC from Bayesian optimization is {svcBO.max}\")"
   ]
  },
  {
   "cell_type": "code",
   "execution_count": 11,
   "id": "5bdfa40a",
   "metadata": {},
   "outputs": [
    {
     "name": "stdout",
     "output_type": "stream",
     "text": [
      "Precision of the cv results is [0.73039209 0.73310117 0.73313239 0.73047878 0.7357608 ]\n",
      "Recall of the cv results is [0.72676404 0.72999471 0.7295988  0.72744605 0.73203809]\n",
      "AUC of the cv results is [0.78777517 0.79141548 0.79083133 0.79313459 0.79535475]\n"
     ]
    }
   ],
   "source": [
    "scoring = ['precision_macro', 'recall_macro', 'roc_auc']\n",
    "\n",
    "svc_best = SVC(C=svcBO.max['params']['C'], gamma=svcBO.max['params']['gamma'], kernel='rbf', random_state=42, verbose=0)\n",
    "\n",
    "svc_best_cv_results = cross_validate(svc_best, X_train, y_train, cv=5, scoring=scoring)\n",
    "print(f\"Precision of the cv results is {svc_best_cv_results['test_precision_macro']}\")\n",
    "print(f\"Recall of the cv results is {svc_best_cv_results['test_recall_macro']}\")\n",
    "print(f\"AUC of the cv results is {svc_best_cv_results['test_roc_auc']}\")"
   ]
  },
  {
   "cell_type": "code",
   "execution_count": 12,
   "id": "a3732d44",
   "metadata": {},
   "outputs": [
    {
     "name": "stdout",
     "output_type": "stream",
     "text": [
      "With SVC, the confusion matrix is:\n",
      "[[5608 1388]\n",
      " [2210 4512]]\n",
      "The overall accuracy of SVC is 0.7377168683481558\n"
     ]
    }
   ],
   "source": [
    "#prediction on test dataset\n",
    "from sklearn.metrics import confusion_matrix\n",
    "\n",
    "\n",
    "svc_best.fit(X_train, y_train)\n",
    "\n",
    "y_pred_svc  = svc_best.predict(X_test)\n",
    "\n",
    "\n",
    "\n",
    "\n",
    "cnf_matrix= confusion_matrix(y_test,y_pred_svc)\n",
    "print(f\"With SVC, the confusion matrix is:\\n{cnf_matrix}\")\n",
    "Accuracy_svc=svc_best.score(X_test,y_test)\n",
    "\n",
    "print(f\"The overall accuracy of SVC is {Accuracy_svc}\")"
   ]
  },
  {
   "cell_type": "code",
   "execution_count": 19,
   "id": "f93af842",
   "metadata": {},
   "outputs": [
    {
     "data": {
      "image/png": "[encoded data removed]",
      "text/plain": [
       "<Figure size 432x288 with 1 Axes>"
      ]
     },
     "metadata": {
      "needs_background": "light"
     },
     "output_type": "display_data"
    }
   ],
   "source": [
    "#Plot ROC curve and AUC score\n",
    "from sklearn.metrics import roc_auc_score, RocCurveDisplay\n",
    "\n",
    "auc_score = roc_auc_score(y_test, y_pred_svc)\n",
    "\n",
    "RocCurveDisplay.from_estimator(svc_best, X_test, y_test, pos_label=1, linewidth=2.0)\n",
    "plt.legend('')\n",
    "plt.xlabel(\"False Positive Rate\", size=15)\n",
    "plt.ylabel(\"True Positive Rate\", size=15)\n",
    "plt.title(f\"ROC SVC (AUC: {round(auc_score, 4)})\", size=15)\n",
    "plt.plot([0, 1], [0, 1],'r--', alpha=0.5)\n",
    "plt.xlim([0, 1])\n",
    "plt.ylim([0, 1])\n",
    "\n",
    "plt.show()"
   ]
  },
  {
   "cell_type": "markdown",
   "id": "d1907d7f",
   "metadata": {},
   "source": [
    "### Model 3 Random Forest Classification"
   ]
  },
  {
   "cell_type": "code",
   "execution_count": 13,
   "id": "c41f5cb2",
   "metadata": {},
   "outputs": [],
   "source": [
    "def rf_eval(n_estimator, max_feature, max_depth):\n",
    "\n",
    "    \n",
    "    rf = RandomForestClassifier(n_estimators=int(n_estimator), max_features = int(max_feature), criterion='entropy',\n",
    "                               max_depth = int(max_depth), n_jobs=-1, random_state=42, verbose=0)\n",
    "    \n",
    "    cv_score = cross_validate(rf, X_train, y_train, cv=5)\n",
    "    \n",
    "    return np.mean(cv_score['test_score'])"
   ]
  },
  {
   "cell_type": "code",
   "execution_count": 14,
   "id": "0eeb3f6c",
   "metadata": {},
   "outputs": [
    {
     "name": "stdout",
     "output_type": "stream",
     "text": [
      "|   iter    |  target   | max_depth | max_fe... | n_esti... |\n",
      "-------------------------------------------------------------\n",
      "| \u001b[0m 1       \u001b[0m | \u001b[0m 0.719   \u001b[0m | \u001b[0m 2.687   \u001b[0m | \u001b[0m 3.284   \u001b[0m | \u001b[0m 735.2   \u001b[0m |\n",
      "| \u001b[95m 2       \u001b[0m | \u001b[95m 0.7322  \u001b[0m | \u001b[95m 6.921   \u001b[0m | \u001b[95m 5.238   \u001b[0m | \u001b[95m 257.1   \u001b[0m |\n",
      "| \u001b[0m 3       \u001b[0m | \u001b[0m 0.7307  \u001b[0m | \u001b[0m 6.969   \u001b[0m | \u001b[0m 4.801   \u001b[0m | \u001b[0m 258.6   \u001b[0m |\n",
      "| \u001b[0m 4       \u001b[0m | \u001b[0m 0.7307  \u001b[0m | \u001b[0m 6.751   \u001b[0m | \u001b[0m 8.278   \u001b[0m | \u001b[0m 247.5   \u001b[0m |\n",
      "| \u001b[0m 5       \u001b[0m | \u001b[0m 0.7111  \u001b[0m | \u001b[0m 1.314   \u001b[0m | \u001b[0m 1.377   \u001b[0m | \u001b[0m 251.4   \u001b[0m |\n",
      "| \u001b[0m 6       \u001b[0m | \u001b[0m 0.732   \u001b[0m | \u001b[0m 9.51    \u001b[0m | \u001b[0m 9.158   \u001b[0m | \u001b[0m 252.7   \u001b[0m |\n",
      "| \u001b[0m 7       \u001b[0m | \u001b[0m 0.7311  \u001b[0m | \u001b[0m 7.913   \u001b[0m | \u001b[0m 9.755   \u001b[0m | \u001b[0m 258.5   \u001b[0m |\n",
      "| \u001b[0m 8       \u001b[0m | \u001b[0m 0.7318  \u001b[0m | \u001b[0m 9.778   \u001b[0m | \u001b[0m 7.863   \u001b[0m | \u001b[0m 237.8   \u001b[0m |\n",
      "| \u001b[0m 9       \u001b[0m | \u001b[0m 0.7293  \u001b[0m | \u001b[0m 5.576   \u001b[0m | \u001b[0m 9.942   \u001b[0m | \u001b[0m 229.7   \u001b[0m |\n",
      "| \u001b[0m 10      \u001b[0m | \u001b[0m 0.7115  \u001b[0m | \u001b[0m 2.765   \u001b[0m | \u001b[0m 9.93    \u001b[0m | \u001b[0m 238.8   \u001b[0m |\n",
      "| \u001b[95m 11      \u001b[0m | \u001b[95m 0.7323  \u001b[0m | \u001b[95m 10.0    \u001b[0m | \u001b[95m 4.5     \u001b[0m | \u001b[95m 232.5   \u001b[0m |\n",
      "| \u001b[0m 12      \u001b[0m | \u001b[0m 0.7302  \u001b[0m | \u001b[0m 9.823   \u001b[0m | \u001b[0m 2.347   \u001b[0m | \u001b[0m 240.1   \u001b[0m |\n",
      "=============================================================\n"
     ]
    }
   ],
   "source": [
    "rfBO = BayesianOptimization(rf_eval, {'n_estimator': (10, 1000),\n",
    "                                                'max_feature': (1,10),\n",
    "                                                'max_depth': (1,10)\n",
    "                                                })\n",
    "\n",
    "rfBO.maximize(n_iter=10, init_points=2)"
   ]
  },
  {
   "cell_type": "code",
   "execution_count": 15,
   "id": "a81d7909",
   "metadata": {},
   "outputs": [
    {
     "data": {
      "text/plain": [
       "{'target': 0.7323491889921633,\n",
       " 'params': {'max_depth': 10.0,\n",
       "  'max_feature': 4.5001986639942775,\n",
       "  'n_estimator': 232.542435325987}}"
      ]
     },
     "execution_count": 15,
     "metadata": {},
     "output_type": "execute_result"
    }
   ],
   "source": [
    "#get the best parameters\n",
    "rfBO.max"
   ]
  },
  {
   "cell_type": "code",
   "execution_count": 16,
   "id": "7a5dc0ff",
   "metadata": {},
   "outputs": [
    {
     "name": "stdout",
     "output_type": "stream",
     "text": [
      "Precision of the cv results is [0.73241476 0.7329477  0.73255094 0.73415818 0.73957406]\n",
      "Recall of the cv results is [0.72955775 0.73110552 0.73064314 0.73178673 0.73665881]\n"
     ]
    }
   ],
   "source": [
    "rf_best = RandomForestClassifier(n_estimators=int(rfBO.max['params']['n_estimator']), \\\n",
    "max_features = int(rfBO.max['params']['max_feature']), criterion='entropy',\n",
    "                               max_depth = int(rfBO.max['params']['max_depth']), n_jobs=-1, random_state=42, verbose=0)\n",
    "\n",
    "\n",
    "scoring = ['precision_macro', 'recall_macro']\n",
    "svc_best_cv_results = cross_validate(rf_best, X_train, y_train, cv=5, scoring=scoring)\n",
    "print(f\"Precision of the cv results is {svc_best_cv_results['test_precision_macro']}\")\n",
    "print(f\"Recall of the cv results is {svc_best_cv_results['test_recall_macro']}\")"
   ]
  },
  {
   "cell_type": "code",
   "execution_count": 18,
   "id": "095dadad",
   "metadata": {},
   "outputs": [
    {
     "name": "stdout",
     "output_type": "stream",
     "text": [
      "With Random Forest, the confusion matrix is:\n",
      "[[5516 1480]\n",
      " [2137 4585]]\n",
      "The overall accuracy of Random Forest is 0.7363318267969091\n"
     ]
    }
   ],
   "source": [
    "\n",
    "rf_best.fit(X_train, y_train)\n",
    "\n",
    "y_pred_rf  = rf_best.predict(X_test)\n",
    "\n",
    "\n",
    "\n",
    "cnf_matrix= confusion_matrix(y_test,y_pred_rf)\n",
    "print(f\"With Random Forest, the confusion matrix is:\\n{cnf_matrix}\")\n",
    "Accuracy_rf=rf_best.score(X_test,y_test)\n",
    "\n",
    "print(f\"The overall accuracy of Random Forest is {Accuracy_rf}\")"
   ]
  },
  {
   "cell_type": "code",
   "execution_count": 19,
   "id": "8b18200f",
   "metadata": {},
   "outputs": [
    {
     "data": {
      "image/png": "[encoded data removed]",
      "text/plain": [
       "<Figure size 432x288 with 1 Axes>"
      ]
     },
     "metadata": {
      "needs_background": "light"
     },
     "output_type": "display_data"
    }
   ],
   "source": [
    "auc_score = roc_auc_score(y_test, y_pred_rf)\n",
    "\n",
    "RocCurveDisplay.from_estimator(rf_best, X_test, y_test, pos_label=1, linewidth=2.0)\n",
    "plt.legend('')\n",
    "plt.xlabel(\"False Positive Rate\", size=15)\n",
    "plt.ylabel(\"True Positive Rate\", size=15)\n",
    "plt.title(f\"ROC Random Forest(AUC: {round(auc_score, 4)})\", size=15)\n",
    "plt.plot([0, 1], [0, 1],'r--', alpha=0.5)\n",
    "plt.xlim([0, 1])\n",
    "plt.ylim([0, 1])\n",
    "\n",
    "plt.show()"
   ]
  },
  {
   "cell_type": "markdown",
   "id": "1dbe3f98",
   "metadata": {},
   "source": [
    "### Method 4 XGBoost Classifier"
   ]
  },
  {
   "cell_type": "code",
   "execution_count": 20,
   "id": "201c5244",
   "metadata": {},
   "outputs": [],
   "source": [
    "def xgb_eval(n_estimator, learning_rate, max_depth, min_child_weight, gamma):\n",
    "    xgb = XGBClassifier(n_estimators=int(n_estimator), max_depth= int(max_depth), learning_rate=learning_rate,\n",
    "                        gamma=gamma, min_child_weight=min_child_weight, n_jobs=-1, random_state=42, verbosity=0,\n",
    "                       use_label_encoder=False, objective=\"binary:logistic\")\n",
    "                       \n",
    "    \n",
    "    \n",
    "    \n",
    "    cv_score = cross_validate(xgb, X_train, y_train, cv=5)\n",
    "    \n",
    "    return np.mean(cv_score['test_score'])\n"
   ]
  },
  {
   "cell_type": "code",
   "execution_count": 22,
   "id": "c1760c1f",
   "metadata": {},
   "outputs": [
    {
     "name": "stdout",
     "output_type": "stream",
     "text": [
      "|   iter    |  target   |   gamma   | learni... | max_depth | min_ch... | n_esti... |\n",
      "-------------------------------------------------------------------------------------\n",
      "| \u001b[0m 1       \u001b[0m | \u001b[0m 0.6909  \u001b[0m | \u001b[0m 0.288   \u001b[0m | \u001b[0m 0.6717  \u001b[0m | \u001b[0m 4.726   \u001b[0m | \u001b[0m 2.004   \u001b[0m | \u001b[0m 917.6   \u001b[0m |\n",
      "| \u001b[0m 2       \u001b[0m | \u001b[0m 0.6521  \u001b[0m | \u001b[0m 0.2418  \u001b[0m | \u001b[0m 1.641   \u001b[0m | \u001b[0m 5.768   \u001b[0m | \u001b[0m 2.242   \u001b[0m | \u001b[0m 328.0   \u001b[0m |\n",
      "| \u001b[0m 3       \u001b[0m | \u001b[0m 0.5251  \u001b[0m | \u001b[0m 0.3015  \u001b[0m | \u001b[0m 1.842   \u001b[0m | \u001b[0m 4.692   \u001b[0m | \u001b[0m 4.502   \u001b[0m | \u001b[0m 918.9   \u001b[0m |\n",
      "| \u001b[0m 4       \u001b[0m | \u001b[0m 0.6898  \u001b[0m | \u001b[0m 0.2164  \u001b[0m | \u001b[0m 0.8752  \u001b[0m | \u001b[0m 7.038   \u001b[0m | \u001b[0m 1.564   \u001b[0m | \u001b[0m 92.69   \u001b[0m |\n",
      "| \u001b[95m 5       \u001b[0m | \u001b[95m 0.7012  \u001b[0m | \u001b[95m 0.4788  \u001b[0m | \u001b[95m 0.7869  \u001b[0m | \u001b[95m 3.453   \u001b[0m | \u001b[95m 3.493   \u001b[0m | \u001b[95m 728.2   \u001b[0m |\n",
      "| \u001b[0m 6       \u001b[0m | \u001b[0m 0.6919  \u001b[0m | \u001b[0m 0.3253  \u001b[0m | \u001b[0m 0.8545  \u001b[0m | \u001b[0m 3.515   \u001b[0m | \u001b[0m 2.422   \u001b[0m | \u001b[0m 952.4   \u001b[0m |\n",
      "| \u001b[0m 7       \u001b[0m | \u001b[0m 0.5324  \u001b[0m | \u001b[0m 0.354   \u001b[0m | \u001b[0m 1.908   \u001b[0m | \u001b[0m 3.003   \u001b[0m | \u001b[0m 4.106   \u001b[0m | \u001b[0m 592.5   \u001b[0m |\n",
      "| \u001b[95m 8       \u001b[0m | \u001b[95m 0.7219  \u001b[0m | \u001b[95m 0.1612  \u001b[0m | \u001b[95m 0.1357  \u001b[0m | \u001b[95m 5.117   \u001b[0m | \u001b[95m 1.52    \u001b[0m | \u001b[95m 900.4   \u001b[0m |\n",
      "| \u001b[95m 9       \u001b[0m | \u001b[95m 0.7323  \u001b[0m | \u001b[95m 0.01025 \u001b[0m | \u001b[95m 0.1805  \u001b[0m | \u001b[95m 6.595   \u001b[0m | \u001b[95m 1.766   \u001b[0m | \u001b[95m 30.16   \u001b[0m |\n",
      "| \u001b[0m 10      \u001b[0m | \u001b[0m 0.7113  \u001b[0m | \u001b[0m 0.2498  \u001b[0m | \u001b[0m 0.5405  \u001b[0m | \u001b[0m 3.565   \u001b[0m | \u001b[0m 3.628   \u001b[0m | \u001b[0m 727.7   \u001b[0m |\n",
      "| \u001b[0m 11      \u001b[0m | \u001b[0m 0.7214  \u001b[0m | \u001b[0m 0.1974  \u001b[0m | \u001b[0m 0.7432  \u001b[0m | \u001b[0m 6.711   \u001b[0m | \u001b[0m 3.459   \u001b[0m | \u001b[0m 28.55   \u001b[0m |\n",
      "| \u001b[0m 12      \u001b[0m | \u001b[0m 0.7175  \u001b[0m | \u001b[0m 0.4648  \u001b[0m | \u001b[0m 0.5303  \u001b[0m | \u001b[0m 9.23    \u001b[0m | \u001b[0m 1.181   \u001b[0m | \u001b[0m 28.74   \u001b[0m |\n",
      "| \u001b[0m 13      \u001b[0m | \u001b[0m 0.6977  \u001b[0m | \u001b[0m 0.1711  \u001b[0m | \u001b[0m 1.05    \u001b[0m | \u001b[0m 8.003   \u001b[0m | \u001b[0m 4.457   \u001b[0m | \u001b[0m 32.18   \u001b[0m |\n",
      "| \u001b[0m 14      \u001b[0m | \u001b[0m 0.7217  \u001b[0m | \u001b[0m 0.127   \u001b[0m | \u001b[0m 0.02793 \u001b[0m | \u001b[0m 3.231   \u001b[0m | \u001b[0m 1.172   \u001b[0m | \u001b[0m 28.8    \u001b[0m |\n",
      "| \u001b[0m 15      \u001b[0m | \u001b[0m 0.6976  \u001b[0m | \u001b[0m 0.3875  \u001b[0m | \u001b[0m 1.194   \u001b[0m | \u001b[0m 7.141   \u001b[0m | \u001b[0m 1.233   \u001b[0m | \u001b[0m 25.24   \u001b[0m |\n",
      "| \u001b[0m 16      \u001b[0m | \u001b[0m 0.7181  \u001b[0m | \u001b[0m 0.06958 \u001b[0m | \u001b[0m 1.721   \u001b[0m | \u001b[0m 3.708   \u001b[0m | \u001b[0m 1.054   \u001b[0m | \u001b[0m 32.71   \u001b[0m |\n",
      "| \u001b[0m 17      \u001b[0m | \u001b[0m 0.7053  \u001b[0m | \u001b[0m 0.4517  \u001b[0m | \u001b[0m 0.5357  \u001b[0m | \u001b[0m 4.819   \u001b[0m | \u001b[0m 1.023   \u001b[0m | \u001b[0m 912.9   \u001b[0m |\n",
      "| \u001b[0m 18      \u001b[0m | \u001b[0m 0.7319  \u001b[0m | \u001b[0m 0.02616 \u001b[0m | \u001b[0m 0.3974  \u001b[0m | \u001b[0m 3.784   \u001b[0m | \u001b[0m 5.168   \u001b[0m | \u001b[0m 31.14   \u001b[0m |\n",
      "| \u001b[0m 19      \u001b[0m | \u001b[0m 0.7322  \u001b[0m | \u001b[0m 0.3813  \u001b[0m | \u001b[0m 0.4192  \u001b[0m | \u001b[0m 3.116   \u001b[0m | \u001b[0m 5.9     \u001b[0m | \u001b[0m 25.75   \u001b[0m |\n",
      "| \u001b[0m 20      \u001b[0m | \u001b[0m 0.7235  \u001b[0m | \u001b[0m 0.0     \u001b[0m | \u001b[0m 0.01    \u001b[0m | \u001b[0m 3.0     \u001b[0m | \u001b[0m 6.0     \u001b[0m | \u001b[0m 21.04   \u001b[0m |\n",
      "| \u001b[0m 21      \u001b[0m | \u001b[0m 0.7171  \u001b[0m | \u001b[0m 0.4784  \u001b[0m | \u001b[0m 0.3496  \u001b[0m | \u001b[0m 4.562   \u001b[0m | \u001b[0m 4.501   \u001b[0m | \u001b[0m 722.4   \u001b[0m |\n",
      "| \u001b[0m 22      \u001b[0m | \u001b[0m 0.7058  \u001b[0m | \u001b[0m 0.4699  \u001b[0m | \u001b[0m 0.3783  \u001b[0m | \u001b[0m 8.883   \u001b[0m | \u001b[0m 5.948   \u001b[0m | \u001b[0m 725.2   \u001b[0m |\n",
      "| \u001b[0m 23      \u001b[0m | \u001b[0m 0.6879  \u001b[0m | \u001b[0m 0.09227 \u001b[0m | \u001b[0m 0.5067  \u001b[0m | \u001b[0m 8.014   \u001b[0m | \u001b[0m 4.051   \u001b[0m | \u001b[0m 903.9   \u001b[0m |\n",
      "| \u001b[0m 24      \u001b[0m | \u001b[0m 0.7105  \u001b[0m | \u001b[0m 0.2965  \u001b[0m | \u001b[0m 0.3912  \u001b[0m | \u001b[0m 4.071   \u001b[0m | \u001b[0m 2.226   \u001b[0m | \u001b[0m 895.7   \u001b[0m |\n",
      "| \u001b[0m 25      \u001b[0m | \u001b[0m 0.7194  \u001b[0m | \u001b[0m 0.09931 \u001b[0m | \u001b[0m 0.8116  \u001b[0m | \u001b[0m 7.191   \u001b[0m | \u001b[0m 5.874   \u001b[0m | \u001b[0m 22.57   \u001b[0m |\n",
      "| \u001b[0m 26      \u001b[0m | \u001b[0m 0.619   \u001b[0m | \u001b[0m 0.5     \u001b[0m | \u001b[0m 2.0     \u001b[0m | \u001b[0m 6.049   \u001b[0m | \u001b[0m 6.0     \u001b[0m | \u001b[0m 17.33   \u001b[0m |\n",
      "| \u001b[0m 27      \u001b[0m | \u001b[0m 0.6873  \u001b[0m | \u001b[0m 0.1957  \u001b[0m | \u001b[0m 0.689   \u001b[0m | \u001b[0m 7.244   \u001b[0m | \u001b[0m 1.32    \u001b[0m | \u001b[0m 724.9   \u001b[0m |\n",
      "| \u001b[0m 28      \u001b[0m | \u001b[0m 0.7316  \u001b[0m | \u001b[0m 0.2554  \u001b[0m | \u001b[0m 0.6386  \u001b[0m | \u001b[0m 3.558   \u001b[0m | \u001b[0m 2.402   \u001b[0m | \u001b[0m 23.44   \u001b[0m |\n",
      "| \u001b[0m 29      \u001b[0m | \u001b[0m 0.7227  \u001b[0m | \u001b[0m 0.0     \u001b[0m | \u001b[0m 0.01    \u001b[0m | \u001b[0m 3.0     \u001b[0m | \u001b[0m 5.248   \u001b[0m | \u001b[0m 35.81   \u001b[0m |\n",
      "| \u001b[0m 30      \u001b[0m | \u001b[0m 0.7262  \u001b[0m | \u001b[0m 0.5     \u001b[0m | \u001b[0m 0.01    \u001b[0m | \u001b[0m 4.832   \u001b[0m | \u001b[0m 1.0     \u001b[0m | \u001b[0m 38.13   \u001b[0m |\n",
      "| \u001b[0m 31      \u001b[0m | \u001b[0m 0.7209  \u001b[0m | \u001b[0m 0.2806  \u001b[0m | \u001b[0m 1.405   \u001b[0m | \u001b[0m 3.627   \u001b[0m | \u001b[0m 4.955   \u001b[0m | \u001b[0m 41.31   \u001b[0m |\n",
      "| \u001b[0m 32      \u001b[0m | \u001b[0m 0.7296  \u001b[0m | \u001b[0m 0.3869  \u001b[0m | \u001b[0m 0.2402  \u001b[0m | \u001b[0m 8.616   \u001b[0m | \u001b[0m 3.898   \u001b[0m | \u001b[0m 39.38   \u001b[0m |\n",
      "| \u001b[0m 33      \u001b[0m | \u001b[0m 0.7058  \u001b[0m | \u001b[0m 0.4356  \u001b[0m | \u001b[0m 0.8746  \u001b[0m | \u001b[0m 7.781   \u001b[0m | \u001b[0m 2.192   \u001b[0m | \u001b[0m 44.24   \u001b[0m |\n",
      "| \u001b[0m 34      \u001b[0m | \u001b[0m 0.654   \u001b[0m | \u001b[0m 0.02426 \u001b[0m | \u001b[0m 1.806   \u001b[0m | \u001b[0m 8.076   \u001b[0m | \u001b[0m 1.165   \u001b[0m | \u001b[0m 36.88   \u001b[0m |\n",
      "| \u001b[0m 35      \u001b[0m | \u001b[0m 0.7154  \u001b[0m | \u001b[0m 0.4924  \u001b[0m | \u001b[0m 1.007   \u001b[0m | \u001b[0m 5.99    \u001b[0m | \u001b[0m 5.959   \u001b[0m | \u001b[0m 38.77   \u001b[0m |\n",
      "| \u001b[95m 36      \u001b[0m | \u001b[95m 0.7331  \u001b[0m | \u001b[95m 0.3863  \u001b[0m | \u001b[95m 0.3411  \u001b[0m | \u001b[95m 3.853   \u001b[0m | \u001b[95m 1.768   \u001b[0m | \u001b[95m 41.87   \u001b[0m |\n",
      "| \u001b[0m 37      \u001b[0m | \u001b[0m 0.6736  \u001b[0m | \u001b[0m 0.1259  \u001b[0m | \u001b[0m 1.381   \u001b[0m | \u001b[0m 9.598   \u001b[0m | \u001b[0m 1.069   \u001b[0m | \u001b[0m 897.1   \u001b[0m |\n",
      "| \u001b[0m 38      \u001b[0m | \u001b[0m 0.5941  \u001b[0m | \u001b[0m 0.3367  \u001b[0m | \u001b[0m 1.962   \u001b[0m | \u001b[0m 3.116   \u001b[0m | \u001b[0m 3.75    \u001b[0m | \u001b[0m 46.64   \u001b[0m |\n",
      "| \u001b[0m 39      \u001b[0m | \u001b[0m 0.7296  \u001b[0m | \u001b[0m 0.4165  \u001b[0m | \u001b[0m 0.124   \u001b[0m | \u001b[0m 3.396   \u001b[0m | \u001b[0m 5.848   \u001b[0m | \u001b[0m 900.7   \u001b[0m |\n",
      "| \u001b[0m 40      \u001b[0m | \u001b[0m 0.7073  \u001b[0m | \u001b[0m 0.4101  \u001b[0m | \u001b[0m 0.6971  \u001b[0m | \u001b[0m 3.146   \u001b[0m | \u001b[0m 5.871   \u001b[0m | \u001b[0m 896.9   \u001b[0m |\n",
      "| \u001b[0m 41      \u001b[0m | \u001b[0m 0.6849  \u001b[0m | \u001b[0m 0.1019  \u001b[0m | \u001b[0m 0.9749  \u001b[0m | \u001b[0m 3.206   \u001b[0m | \u001b[0m 2.581   \u001b[0m | \u001b[0m 904.2   \u001b[0m |\n",
      "| \u001b[0m 42      \u001b[0m | \u001b[0m 0.6877  \u001b[0m | \u001b[0m 0.2153  \u001b[0m | \u001b[0m 0.57    \u001b[0m | \u001b[0m 7.313   \u001b[0m | \u001b[0m 5.459   \u001b[0m | \u001b[0m 717.0   \u001b[0m |\n",
      "| \u001b[0m 43      \u001b[0m | \u001b[0m 0.6591  \u001b[0m | \u001b[0m 0.07858 \u001b[0m | \u001b[0m 1.737   \u001b[0m | \u001b[0m 8.995   \u001b[0m | \u001b[0m 5.719   \u001b[0m | \u001b[0m 41.23   \u001b[0m |\n",
      "| \u001b[0m 44      \u001b[0m | \u001b[0m 0.7133  \u001b[0m | \u001b[0m 0.2144  \u001b[0m | \u001b[0m 1.688   \u001b[0m | \u001b[0m 4.657   \u001b[0m | \u001b[0m 5.743   \u001b[0m | \u001b[0m 24.44   \u001b[0m |\n",
      "| \u001b[0m 45      \u001b[0m | \u001b[0m 0.7251  \u001b[0m | \u001b[0m 0.04229 \u001b[0m | \u001b[0m 0.0532  \u001b[0m | \u001b[0m 3.199   \u001b[0m | \u001b[0m 3.803   \u001b[0m | \u001b[0m 38.51   \u001b[0m |\n",
      "| \u001b[0m 46      \u001b[0m | \u001b[0m 0.7323  \u001b[0m | \u001b[0m 0.5     \u001b[0m | \u001b[0m 0.01    \u001b[0m | \u001b[0m 3.0     \u001b[0m | \u001b[0m 2.662   \u001b[0m | \u001b[0m 889.7   \u001b[0m |\n",
      "| \u001b[0m 47      \u001b[0m | \u001b[0m 0.701   \u001b[0m | \u001b[0m 0.3903  \u001b[0m | \u001b[0m 0.5478  \u001b[0m | \u001b[0m 4.567   \u001b[0m | \u001b[0m 5.947   \u001b[0m | \u001b[0m 890.8   \u001b[0m |\n",
      "| \u001b[0m 48      \u001b[0m | \u001b[0m 0.7324  \u001b[0m | \u001b[0m 0.3558  \u001b[0m | \u001b[0m 0.03383 \u001b[0m | \u001b[0m 4.761   \u001b[0m | \u001b[0m 1.561   \u001b[0m | \u001b[0m 886.2   \u001b[0m |\n",
      "| \u001b[0m 49      \u001b[0m | \u001b[0m 0.7319  \u001b[0m | \u001b[0m 0.5     \u001b[0m | \u001b[0m 0.01    \u001b[0m | \u001b[0m 6.608   \u001b[0m | \u001b[0m 1.0     \u001b[0m | \u001b[0m 889.6   \u001b[0m |\n",
      "| \u001b[0m 50      \u001b[0m | \u001b[0m 0.6781  \u001b[0m | \u001b[0m 0.1472  \u001b[0m | \u001b[0m 0.9609  \u001b[0m | \u001b[0m 8.221   \u001b[0m | \u001b[0m 3.662   \u001b[0m | \u001b[0m 886.7   \u001b[0m |\n",
      "| \u001b[0m 51      \u001b[0m | \u001b[0m 0.5564  \u001b[0m | \u001b[0m 0.2936  \u001b[0m | \u001b[0m 1.855   \u001b[0m | \u001b[0m 4.638   \u001b[0m | \u001b[0m 1.262   \u001b[0m | \u001b[0m 891.5   \u001b[0m |\n",
      "| \u001b[0m 52      \u001b[0m | \u001b[0m 0.732   \u001b[0m | \u001b[0m 0.0308  \u001b[0m | \u001b[0m 0.3397  \u001b[0m | \u001b[0m 4.998   \u001b[0m | \u001b[0m 2.833   \u001b[0m | \u001b[0m 40.47   \u001b[0m |\n",
      "| \u001b[0m 53      \u001b[0m | \u001b[0m 0.7305  \u001b[0m | \u001b[0m 0.08258 \u001b[0m | \u001b[0m 0.8585  \u001b[0m | \u001b[0m 3.51    \u001b[0m | \u001b[0m 3.197   \u001b[0m | \u001b[0m 27.0    \u001b[0m |\n",
      "| \u001b[0m 54      \u001b[0m | \u001b[0m 0.7262  \u001b[0m | \u001b[0m 0.3829  \u001b[0m | \u001b[0m 0.08009 \u001b[0m | \u001b[0m 3.609   \u001b[0m | \u001b[0m 5.356   \u001b[0m | \u001b[0m 28.5    \u001b[0m |\n",
      "| \u001b[0m 55      \u001b[0m | \u001b[0m 0.7269  \u001b[0m | \u001b[0m 0.1338  \u001b[0m | \u001b[0m 0.1877  \u001b[0m | \u001b[0m 3.35    \u001b[0m | \u001b[0m 4.097   \u001b[0m | \u001b[0m 888.2   \u001b[0m |\n",
      "| \u001b[0m 56      \u001b[0m | \u001b[0m 0.7137  \u001b[0m | \u001b[0m 0.4244  \u001b[0m | \u001b[0m 1.781   \u001b[0m | \u001b[0m 3.402   \u001b[0m | \u001b[0m 3.748   \u001b[0m | \u001b[0m 30.38   \u001b[0m |\n",
      "| \u001b[0m 57      \u001b[0m | \u001b[0m 0.6667  \u001b[0m | \u001b[0m 0.3269  \u001b[0m | \u001b[0m 1.694   \u001b[0m | \u001b[0m 3.111   \u001b[0m | \u001b[0m 2.377   \u001b[0m | \u001b[0m 899.5   \u001b[0m |\n",
      "| \u001b[0m 58      \u001b[0m | \u001b[0m 0.6843  \u001b[0m | \u001b[0m 0.1629  \u001b[0m | \u001b[0m 1.835   \u001b[0m | \u001b[0m 3.049   \u001b[0m | \u001b[0m 1.954   \u001b[0m | \u001b[0m 40.14   \u001b[0m |\n",
      "| \u001b[0m 59      \u001b[0m | \u001b[0m 0.7319  \u001b[0m | \u001b[0m 0.2791  \u001b[0m | \u001b[0m 0.0632  \u001b[0m | \u001b[0m 4.943   \u001b[0m | \u001b[0m 2.691   \u001b[0m | \u001b[0m 34.61   \u001b[0m |\n",
      "| \u001b[0m 60      \u001b[0m | \u001b[0m 0.7191  \u001b[0m | \u001b[0m 0.01614 \u001b[0m | \u001b[0m 1.645   \u001b[0m | \u001b[0m 3.103   \u001b[0m | \u001b[0m 2.759   \u001b[0m | \u001b[0m 36.09   \u001b[0m |\n",
      "| \u001b[0m 61      \u001b[0m | \u001b[0m 0.7313  \u001b[0m | \u001b[0m 0.3297  \u001b[0m | \u001b[0m 0.1277  \u001b[0m | \u001b[0m 6.341   \u001b[0m | \u001b[0m 4.509   \u001b[0m | \u001b[0m 36.11   \u001b[0m |\n",
      "| \u001b[0m 62      \u001b[0m | \u001b[0m 0.72    \u001b[0m | \u001b[0m 0.0395  \u001b[0m | \u001b[0m 1.176   \u001b[0m | \u001b[0m 4.872   \u001b[0m | \u001b[0m 5.876   \u001b[0m | \u001b[0m 34.32   \u001b[0m |\n",
      "| \u001b[0m 63      \u001b[0m | \u001b[0m 0.7288  \u001b[0m | \u001b[0m 0.1286  \u001b[0m | \u001b[0m 0.05557 \u001b[0m | \u001b[0m 6.672   \u001b[0m | \u001b[0m 4.738   \u001b[0m | \u001b[0m 900.1   \u001b[0m |\n",
      "| \u001b[0m 64      \u001b[0m | \u001b[0m 0.7127  \u001b[0m | \u001b[0m 0.236   \u001b[0m | \u001b[0m 0.4723  \u001b[0m | \u001b[0m 3.059   \u001b[0m | \u001b[0m 2.885   \u001b[0m | \u001b[0m 884.3   \u001b[0m |\n",
      "| \u001b[0m 65      \u001b[0m | \u001b[0m 0.7256  \u001b[0m | \u001b[0m 0.4385  \u001b[0m | \u001b[0m 0.3581  \u001b[0m | \u001b[0m 7.773   \u001b[0m | \u001b[0m 1.082   \u001b[0m | \u001b[0m 40.66   \u001b[0m |\n",
      "| \u001b[0m 66      \u001b[0m | \u001b[0m 0.7036  \u001b[0m | \u001b[0m 0.1191  \u001b[0m | \u001b[0m 0.376   \u001b[0m | \u001b[0m 5.422   \u001b[0m | \u001b[0m 1.123   \u001b[0m | \u001b[0m 881.4   \u001b[0m |\n",
      "| \u001b[0m 67      \u001b[0m | \u001b[0m 0.6828  \u001b[0m | \u001b[0m 0.2094  \u001b[0m | \u001b[0m 1.379   \u001b[0m | \u001b[0m 8.918   \u001b[0m | \u001b[0m 5.574   \u001b[0m | \u001b[0m 26.01   \u001b[0m |\n",
      "| \u001b[0m 68      \u001b[0m | \u001b[0m 0.7316  \u001b[0m | \u001b[0m 0.02052 \u001b[0m | \u001b[0m 0.5512  \u001b[0m | \u001b[0m 4.345   \u001b[0m | \u001b[0m 1.459   \u001b[0m | \u001b[0m 20.16   \u001b[0m |\n",
      "| \u001b[0m 69      \u001b[0m | \u001b[0m 0.7193  \u001b[0m | \u001b[0m 0.3259  \u001b[0m | \u001b[0m 0.7563  \u001b[0m | \u001b[0m 7.671   \u001b[0m | \u001b[0m 1.178   \u001b[0m | \u001b[0m 20.96   \u001b[0m |\n",
      "| \u001b[0m 70      \u001b[0m | \u001b[0m 0.729   \u001b[0m | \u001b[0m 0.2457  \u001b[0m | \u001b[0m 0.1517  \u001b[0m | \u001b[0m 3.804   \u001b[0m | \u001b[0m 1.628   \u001b[0m | \u001b[0m 719.7   \u001b[0m |\n",
      "| \u001b[0m 71      \u001b[0m | \u001b[0m 0.7157  \u001b[0m | \u001b[0m 0.1735  \u001b[0m | \u001b[0m 0.4625  \u001b[0m | \u001b[0m 3.051   \u001b[0m | \u001b[0m 2.77    \u001b[0m | \u001b[0m 717.1   \u001b[0m |\n",
      "| \u001b[0m 72      \u001b[0m | \u001b[0m 0.7147  \u001b[0m | \u001b[0m 0.2653  \u001b[0m | \u001b[0m 0.2723  \u001b[0m | \u001b[0m 5.392   \u001b[0m | \u001b[0m 1.01    \u001b[0m | \u001b[0m 713.6   \u001b[0m |\n",
      "| \u001b[0m 73      \u001b[0m | \u001b[0m 0.6613  \u001b[0m | \u001b[0m 0.4401  \u001b[0m | \u001b[0m 1.543   \u001b[0m | \u001b[0m 6.778   \u001b[0m | \u001b[0m 1.213   \u001b[0m | \u001b[0m 718.5   \u001b[0m |\n",
      "| \u001b[0m 74      \u001b[0m | \u001b[0m 0.7307  \u001b[0m | \u001b[0m 0.3681  \u001b[0m | \u001b[0m 0.1642  \u001b[0m | \u001b[0m 6.142   \u001b[0m | \u001b[0m 3.245   \u001b[0m | \u001b[0m 22.0    \u001b[0m |\n",
      "| \u001b[0m 75      \u001b[0m | \u001b[0m 0.6092  \u001b[0m | \u001b[0m 0.01075 \u001b[0m | \u001b[0m 1.862   \u001b[0m | \u001b[0m 3.067   \u001b[0m | \u001b[0m 1.342   \u001b[0m | \u001b[0m 709.8   \u001b[0m |\n",
      "| \u001b[0m 76      \u001b[0m | \u001b[0m 0.6851  \u001b[0m | \u001b[0m 0.1581  \u001b[0m | \u001b[0m 0.9599  \u001b[0m | \u001b[0m 3.744   \u001b[0m | \u001b[0m 2.612   \u001b[0m | \u001b[0m 874.6   \u001b[0m |\n",
      "| \u001b[0m 77      \u001b[0m | \u001b[0m 0.6967  \u001b[0m | \u001b[0m 0.09674 \u001b[0m | \u001b[0m 1.484   \u001b[0m | \u001b[0m 3.18    \u001b[0m | \u001b[0m 2.016   \u001b[0m | \u001b[0m 249.8   \u001b[0m |\n",
      "| \u001b[0m 78      \u001b[0m | \u001b[0m 0.6972  \u001b[0m | \u001b[0m 0.006429\u001b[0m | \u001b[0m 0.8411  \u001b[0m | \u001b[0m 3.65    \u001b[0m | \u001b[0m 1.683   \u001b[0m | \u001b[0m 723.7   \u001b[0m |\n",
      "| \u001b[0m 79      \u001b[0m | \u001b[0m 0.6756  \u001b[0m | \u001b[0m 0.4544  \u001b[0m | \u001b[0m 1.37    \u001b[0m | \u001b[0m 3.186   \u001b[0m | \u001b[0m 4.907   \u001b[0m | \u001b[0m 719.7   \u001b[0m |\n",
      "| \u001b[0m 80      \u001b[0m | \u001b[0m 0.6632  \u001b[0m | \u001b[0m 0.281   \u001b[0m | \u001b[0m 1.373   \u001b[0m | \u001b[0m 6.826   \u001b[0m | \u001b[0m 5.608   \u001b[0m | \u001b[0m 896.7   \u001b[0m |\n",
      "| \u001b[0m 81      \u001b[0m | \u001b[0m 0.7314  \u001b[0m | \u001b[0m 0.4649  \u001b[0m | \u001b[0m 0.5281  \u001b[0m | \u001b[0m 3.18    \u001b[0m | \u001b[0m 2.965   \u001b[0m | \u001b[0m 20.81   \u001b[0m |\n",
      "| \u001b[0m 82      \u001b[0m | \u001b[0m 0.6545  \u001b[0m | \u001b[0m 0.1663  \u001b[0m | \u001b[0m 1.715   \u001b[0m | \u001b[0m 7.553   \u001b[0m | \u001b[0m 5.743   \u001b[0m | \u001b[0m 471.3   \u001b[0m |\n",
      "| \u001b[0m 83      \u001b[0m | \u001b[0m 0.7292  \u001b[0m | \u001b[0m 0.5     \u001b[0m | \u001b[0m 0.01    \u001b[0m | \u001b[0m 9.732   \u001b[0m | \u001b[0m 6.0     \u001b[0m | \u001b[0m 36.55   \u001b[0m |\n",
      "| \u001b[0m 84      \u001b[0m | \u001b[0m 0.7304  \u001b[0m | \u001b[0m 0.5     \u001b[0m | \u001b[0m 0.01    \u001b[0m | \u001b[0m 9.669   \u001b[0m | \u001b[0m 1.0     \u001b[0m | \u001b[0m 889.5   \u001b[0m |\n",
      "| \u001b[0m 85      \u001b[0m | \u001b[0m 0.6747  \u001b[0m | \u001b[0m 0.3702  \u001b[0m | \u001b[0m 1.086   \u001b[0m | \u001b[0m 4.439   \u001b[0m | \u001b[0m 5.933   \u001b[0m | \u001b[0m 725.4   \u001b[0m |\n",
      "| \u001b[0m 86      \u001b[0m | \u001b[0m 0.73    \u001b[0m | \u001b[0m 0.0     \u001b[0m | \u001b[0m 0.01    \u001b[0m | \u001b[0m 9.201   \u001b[0m | \u001b[0m 1.0     \u001b[0m | \u001b[0m 914.9   \u001b[0m |\n",
      "| \u001b[0m 87      \u001b[0m | \u001b[0m 0.6589  \u001b[0m | \u001b[0m 0.2356  \u001b[0m | \u001b[0m 1.664   \u001b[0m | \u001b[0m 8.906   \u001b[0m | \u001b[0m 2.335   \u001b[0m | \u001b[0m 912.1   \u001b[0m |\n",
      "| \u001b[0m 88      \u001b[0m | \u001b[0m 0.7303  \u001b[0m | \u001b[0m 0.5     \u001b[0m | \u001b[0m 0.01    \u001b[0m | \u001b[0m 9.965   \u001b[0m | \u001b[0m 1.0     \u001b[0m | \u001b[0m 712.3   \u001b[0m |\n",
      "| \u001b[0m 89      \u001b[0m | \u001b[0m 0.7135  \u001b[0m | \u001b[0m 0.3974  \u001b[0m | \u001b[0m 0.1594  \u001b[0m | \u001b[0m 9.869   \u001b[0m | \u001b[0m 3.67    \u001b[0m | \u001b[0m 710.6   \u001b[0m |\n",
      "| \u001b[0m 90      \u001b[0m | \u001b[0m 0.701   \u001b[0m | \u001b[0m 0.4087  \u001b[0m | \u001b[0m 0.3841  \u001b[0m | \u001b[0m 9.836   \u001b[0m | \u001b[0m 1.433   \u001b[0m | \u001b[0m 918.6   \u001b[0m |\n",
      "| \u001b[0m 91      \u001b[0m | \u001b[0m 0.6835  \u001b[0m | \u001b[0m 0.03552 \u001b[0m | \u001b[0m 0.9443  \u001b[0m | \u001b[0m 9.489   \u001b[0m | \u001b[0m 1.045   \u001b[0m | \u001b[0m 707.8   \u001b[0m |\n",
      "| \u001b[0m 92      \u001b[0m | \u001b[0m 0.5365  \u001b[0m | \u001b[0m 0.5     \u001b[0m | \u001b[0m 2.0     \u001b[0m | \u001b[0m 10.0    \u001b[0m | \u001b[0m 2.765   \u001b[0m | \u001b[0m 713.6   \u001b[0m |\n",
      "| \u001b[0m 93      \u001b[0m | \u001b[0m 0.7263  \u001b[0m | \u001b[0m 0.5     \u001b[0m | \u001b[0m 0.01    \u001b[0m | \u001b[0m 4.94    \u001b[0m | \u001b[0m 3.854   \u001b[0m | \u001b[0m 25.12   \u001b[0m |\n",
      "| \u001b[0m 94      \u001b[0m | \u001b[0m 0.6508  \u001b[0m | \u001b[0m 0.06939 \u001b[0m | \u001b[0m 1.919   \u001b[0m | \u001b[0m 5.917   \u001b[0m | \u001b[0m 2.222   \u001b[0m | \u001b[0m 22.08   \u001b[0m |\n",
      "| \u001b[0m 95      \u001b[0m | \u001b[0m 0.7316  \u001b[0m | \u001b[0m 0.3327  \u001b[0m | \u001b[0m 0.1505  \u001b[0m | \u001b[0m 5.475   \u001b[0m | \u001b[0m 3.096   \u001b[0m | \u001b[0m 32.26   \u001b[0m |\n",
      "| \u001b[0m 96      \u001b[0m | \u001b[0m 0.7217  \u001b[0m | \u001b[0m 0.4386  \u001b[0m | \u001b[0m 0.03801 \u001b[0m | \u001b[0m 3.289   \u001b[0m | \u001b[0m 4.323   \u001b[0m | \u001b[0m 22.96   \u001b[0m |\n",
      "| \u001b[0m 97      \u001b[0m | \u001b[0m 0.7286  \u001b[0m | \u001b[0m 0.2121  \u001b[0m | \u001b[0m 0.1448  \u001b[0m | \u001b[0m 3.489   \u001b[0m | \u001b[0m 1.229   \u001b[0m | \u001b[0m 887.6   \u001b[0m |\n",
      "| \u001b[0m 98      \u001b[0m | \u001b[0m 0.7247  \u001b[0m | \u001b[0m 0.2555  \u001b[0m | \u001b[0m 1.537   \u001b[0m | \u001b[0m 3.547   \u001b[0m | \u001b[0m 1.664   \u001b[0m | \u001b[0m 17.33   \u001b[0m |\n",
      "| \u001b[0m 99      \u001b[0m | \u001b[0m 0.7306  \u001b[0m | \u001b[0m 0.461   \u001b[0m | \u001b[0m 0.06661 \u001b[0m | \u001b[0m 6.059   \u001b[0m | \u001b[0m 1.202   \u001b[0m | \u001b[0m 17.81   \u001b[0m |\n",
      "| \u001b[0m 100     \u001b[0m | \u001b[0m 0.6147  \u001b[0m | \u001b[0m 0.1414  \u001b[0m | \u001b[0m 1.95    \u001b[0m | \u001b[0m 5.78    \u001b[0m | \u001b[0m 1.344   \u001b[0m | \u001b[0m 29.26   \u001b[0m |\n",
      "| \u001b[0m 101     \u001b[0m | \u001b[0m 0.7297  \u001b[0m | \u001b[0m 0.03791 \u001b[0m | \u001b[0m 0.09054 \u001b[0m | \u001b[0m 3.512   \u001b[0m | \u001b[0m 4.38    \u001b[0m | \u001b[0m 33.3    \u001b[0m |\n",
      "| \u001b[0m 102     \u001b[0m | \u001b[0m 0.7143  \u001b[0m | \u001b[0m 0.4617  \u001b[0m | \u001b[0m 1.412   \u001b[0m | \u001b[0m 4.844   \u001b[0m | \u001b[0m 4.355   \u001b[0m | \u001b[0m 36.81   \u001b[0m |\n",
      "| \u001b[0m 103     \u001b[0m | \u001b[0m 0.7291  \u001b[0m | \u001b[0m 0.3873  \u001b[0m | \u001b[0m 0.02553 \u001b[0m | \u001b[0m 5.533   \u001b[0m | \u001b[0m 5.883   \u001b[0m | \u001b[0m 29.6    \u001b[0m |\n",
      "| \u001b[0m 104     \u001b[0m | \u001b[0m 0.7317  \u001b[0m | \u001b[0m 0.4397  \u001b[0m | \u001b[0m 0.2133  \u001b[0m | \u001b[0m 4.948   \u001b[0m | \u001b[0m 3.29    \u001b[0m | \u001b[0m 19.43   \u001b[0m |\n",
      "=====================================================================================\n"
     ]
    }
   ],
   "source": [
    "xgbBO = BayesianOptimization(xgb_eval, {'n_estimator': (10, 1000),\n",
    "                                       'learning_rate': (0.01, 2), \n",
    "                                       'min_child_weight': (1,6),\n",
    "                                       'max_depth': (3,10),\n",
    "                                       'gamma': (0,0.5)\n",
    "                                       \n",
    "                                                })\n",
    "\n",
    "xgbBO.maximize(n_iter=100, init_points=4)"
   ]
  },
  {
   "cell_type": "code",
   "execution_count": 23,
   "id": "b82125ba",
   "metadata": {},
   "outputs": [
    {
     "name": "stdout",
     "output_type": "stream",
     "text": [
      "The best setting from Bayesian Optimizer for XGBoost is {'target': 0.7331146345908511, 'params': {'gamma': 0.3862730924258478, 'learning_rate': 0.3410619927771585, 'max_depth': 3.8525906246490953, 'min_child_weight': 1.768311477824769, 'n_estimator': 41.874913679654526}}\n"
     ]
    }
   ],
   "source": [
    "#get the best parameters from xgboost regression\n",
    "print(f\"The best setting from Bayesian Optimizer for XGBoost is {xgbBO.max}\")"
   ]
  },
  {
   "cell_type": "code",
   "execution_count": 24,
   "id": "0c7b5d30",
   "metadata": {},
   "outputs": [
    {
     "name": "stdout",
     "output_type": "stream",
     "text": [
      "Precision of the cv results is [0.73220962 0.73484909 0.73294175 0.73417727 0.73952941]\n",
      "Recall of the cv results is [0.72967503 0.73332704 0.73151339 0.73218564 0.73706   ]\n",
      "AUC of the cv results is [0.79650984 0.79517505 0.79728006 0.80068048 0.80051537]\n"
     ]
    }
   ],
   "source": [
    "xgb_best = XGBClassifier(n_estimators=int(xgbBO.max['params']['n_estimator']), \\\n",
    "learning_rate = xgbBO.max['params']['learning_rate'], \n",
    "gamma = xgbBO.max['params']['gamma'],\n",
    "max_depth = int(xgbBO.max['params']['max_depth']),\n",
    "min_child_weight = xgbBO.max['params']['min_child_weight'], \\\n",
    "                         n_jobs=-1, random_state=42, verbosity=0, \\\n",
    "                         use_label_encoder=False, objective=\"binary:logistic\")\n",
    "                              \n",
    "\n",
    "\n",
    "scoring = ['precision_macro', 'recall_macro', 'roc_auc']\n",
    "xgb_best_cv_results = cross_validate(xgb_best, X_train, y_train, cv=5, scoring=scoring)\n",
    "print(f\"Precision of the cv results is {xgb_best_cv_results['test_precision_macro']}\")\n",
    "print(f\"Recall of the cv results is {xgb_best_cv_results['test_recall_macro']}\")\n",
    "print(f\"AUC of the cv results is {xgb_best_cv_results['test_roc_auc']}\")"
   ]
  },
  {
   "cell_type": "code",
   "execution_count": 26,
   "id": "04160bcc",
   "metadata": {},
   "outputs": [
    {
     "name": "stdout",
     "output_type": "stream",
     "text": [
      "With XGBoost, the confusion matrix is:\n",
      "[[5522 1474]\n",
      " [2103 4619]]\n",
      "The overall accuracy of XGBoost is 0.7392477037469019\n"
     ]
    }
   ],
   "source": [
    "\n",
    "xgb_best.fit(X_train, y_train)\n",
    "\n",
    "y_pred_xgb  = xgb_best.predict(X_test)\n",
    "\n",
    "\n",
    "\n",
    "\n",
    "cnf_matrix= confusion_matrix(y_test,y_pred_xgb)\n",
    "print(f\"With XGBoost, the confusion matrix is:\\n{cnf_matrix}\")\n",
    "Accuracy_xgb=xgb_best.score(X_test,y_test)\n",
    "\n",
    "print(f\"The overall accuracy of XGBoost is {Accuracy_xgb}\")"
   ]
  },
  {
   "cell_type": "code",
   "execution_count": 27,
   "id": "2d478ce4",
   "metadata": {},
   "outputs": [
    {
     "data": {
      "image/png": "[encoded data removed]",
      "text/plain": [
       "<Figure size 432x288 with 1 Axes>"
      ]
     },
     "metadata": {
      "needs_background": "light"
     },
     "output_type": "display_data"
    }
   ],
   "source": [
    "auc_score = roc_auc_score(y_test, y_pred_xgb)\n",
    "\n",
    "RocCurveDisplay.from_estimator(xgb_best, X_test, y_test, pos_label=1, linewidth=2.0)\n",
    "plt.legend('')\n",
    "plt.xlabel(\"False Positive Rate\", size=15)\n",
    "plt.ylabel(\"True Positive Rate\", size=15)\n",
    "plt.title(f\"ROC XGBoost(AUC: {round(auc_score, 4)})\", size=15)\n",
    "plt.plot([0, 1], [0, 1],'r--', alpha=0.5)\n",
    "plt.xlim([0, 1])\n",
    "plt.ylim([0, 1])\n",
    "\n",
    "plt.show()"
   ]
  },
  {
   "cell_type": "code",
   "execution_count": null,
   "id": "c130d637",
   "metadata": {},
   "outputs": [],
   "source": []
  }
 ],
 "metadata": {
  "kernelspec": {
   "display_name": "Python 3 (ipykernel)",
   "language": "python",
   "name": "python3"
  },
  "language_info": {
   "codemirror_mode": {
    "name": "ipython",
    "version": 3
   },
   "file_extension": ".py",
   "mimetype": "text/x-python",
   "name": "python",
   "nbconvert_exporter": "python",
   "pygments_lexer": "ipython3",
   "version": "3.8.11"
  }
 },
 "nbformat": 4,
 "nbformat_minor": 5
}
