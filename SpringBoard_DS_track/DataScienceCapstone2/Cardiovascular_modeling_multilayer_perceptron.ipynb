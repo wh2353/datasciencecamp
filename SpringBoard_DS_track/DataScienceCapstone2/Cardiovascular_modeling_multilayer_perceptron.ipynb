{
  "nbformat": 4,
  "nbformat_minor": 0,
  "metadata": {
    "accelerator": "GPU",
    "colab": {
      "name": "091421_SMILES_string_feature_regression_random_5000.ipynb",
      "provenance": [],
      "collapsed_sections": [],
      "machine_shape": "hm",
      "include_colab_link": true
    },
    "kernelspec": {
      "display_name": "Python 3",
      "name": "python3"
    }
  },
  "cells": [
    {
      "cell_type": "markdown",
      "metadata": {
        "id": "view-in-github",
        "colab_type": "text"
      },
      "source": [
        "<a href=\"https://colab.research.google.com/github/wh2353/datasciencecamp/blob/main/SpringBoard_DS_track/DataScienceCapstone2/Cardiovascular_modeling_multilayer_perceptron.ipynb\" target=\"_parent\"><img src=\"https://colab.research.google.com/assets/colab-badge.svg\" alt=\"Open In Colab\"/></a>"
      ]
    },
    {
      "cell_type": "markdown",
      "metadata": {
        "id": "VtqfC-BqUWK4"
      },
      "source": [
        "# Cardiovascular Disease Prediction- Multilayer Perceptron network"
      ]
    },
    {
      "cell_type": "code",
      "metadata": {
        "colab": {
          "base_uri": "https://localhost:8080/"
        },
        "id": "3TmzbQJkCeXC",
        "outputId": "91c013a1-e96e-4823-ca24-621602b5f266"
      },
      "source": [
        "try:\n",
        "  %tensorflow_version 2.x # enable TF 2.x in Colab\n",
        "except Exception:\n",
        "  pass"
      ],
      "execution_count": 1,
      "outputs": [
        {
          "output_type": "stream",
          "name": "stdout",
          "text": [
            "`%tensorflow_version` only switches the major version: 1.x or 2.x.\n",
            "You set: `2.x # enable TF 2.x in Colab`. This will be interpreted as: `2.x`.\n",
            "\n",
            "\n",
            "TensorFlow 2.x selected.\n"
          ]
        }
      ]
    },
    {
      "cell_type": "code",
      "metadata": {
        "colab": {
          "base_uri": "https://localhost:8080/"
        },
        "id": "2oLmcZORRh7_",
        "outputId": "48dc910c-2476-4f3b-d2c5-5f36883067e9"
      },
      "source": [
        "import tensorflow as tf\n",
        "print(tf.__version__)"
      ],
      "execution_count": 2,
      "outputs": [
        {
          "output_type": "stream",
          "name": "stdout",
          "text": [
            "2.7.0\n"
          ]
        }
      ]
    },
    {
      "cell_type": "markdown",
      "source": [
        "<b>Import modules</b>"
      ],
      "metadata": {
        "id": "rgvGsLJNogN-"
      }
    },
    {
      "cell_type": "code",
      "source": [
        "import numpy as np\n",
        "import pandas as pd\n",
        "import matplotlib.pyplot as plt\n",
        "import seaborn as sns\n",
        "sns.set()\n",
        "#!pip install keras_tuner\n",
        "from keras.models import Sequential\n",
        "from keras.layers import Dense\n",
        "from keras.callbacks import EarlyStopping \n",
        "from tensorflow.keras.optimizers import Adam \n",
        "from keras_tuner.tuners import RandomSearch \n",
        "import warnings\n",
        "import sklearn.metrics as metrics\n",
        "from tensorflow.keras.layers import Dropout\n",
        "from sklearn.metrics import roc_auc_score, RocCurveDisplay\n",
        "from sklearn.model_selection import train_test_split\n",
        "import pickle\n",
        "warnings.filterwarnings('ignore') # To ignore warnings.\n"
      ],
      "metadata": {
        "id": "Yir_gB1FokA1"
      },
      "execution_count": null,
      "outputs": []
    },
    {
      "cell_type": "markdown",
      "source": [
        "<b>Load train and test data sets</b>"
      ],
      "metadata": {
        "id": "70yx8RyDoLRi"
      }
    },
    {
      "cell_type": "code",
      "metadata": {
        "colab": {
          "base_uri": "https://localhost:8080/"
        },
        "id": "1P_GNxBMrtnI",
        "outputId": "dadb3f10-f73c-4919-839e-a93874bb2564"
      },
      "source": [
        "from google.colab import drive\n",
        "drive.mount('/content/drive', force_remount=True)\n",
        "!ls drive/MyDrive/*pkl"
      ],
      "execution_count": 3,
      "outputs": [
        {
          "output_type": "stream",
          "name": "stdout",
          "text": [
            "Mounted at /content/drive\n",
            "drive/MyDrive/train_test_data_from_featuretools.pkl\n",
            "drive/MyDrive/train_test_data_from_preprocessing.pkl\n"
          ]
        }
      ]
    },
    {
      "cell_type": "code",
      "metadata": {
        "colab": {
          "base_uri": "https://localhost:8080/"
        },
        "id": "nWj5ZVQXA8dS",
        "outputId": "6ac0a0e3-5948-4330-8056-506a239c4d60"
      },
      "source": [
        "#split train and test data from trimmed dataset\n",
        "\n",
        "\n",
        "with open(\"drive/MyDrive/train_test_data_from_preprocessing.pkl\", \"rb\") as f:\n",
        "#with open(\"drive/MyDrive/train_test_data_from_featuretools.pkl\", \"rb\") as f:\n",
        "#with open(\"drive/MyDrive/train_test_data_from_proprocessing_plus_PCA.pkl\", \"rb\") as f:\n",
        "\n",
        "  train_data, test_data, train_labels, test_labels = pickle.load(f)\n",
        "f.close()\n",
        "\n",
        "\n",
        "print(f\"Training data sizes are: {train_data.shape}\")\n",
        "print(f\"Training label sizes are: {train_labels.shape}\")\n",
        "\n",
        "\n",
        "print(f\"Test data sizes are: {test_data.shape}\")\n",
        "print(f\"Test label sizes are: {test_labels.shape}\")"
      ],
      "execution_count": 4,
      "outputs": [
        {
          "output_type": "stream",
          "name": "stdout",
          "text": [
            "Training data sizes are: (54870, 10)\n",
            "Training label sizes are: (54870,)\n",
            "Test data sizes are: (13718, 10)\n",
            "Test label sizes are: (13718,)\n"
          ]
        }
      ]
    },
    {
      "cell_type": "markdown",
      "source": [
        "<b> Separate validation set from training dataset</b>"
      ],
      "metadata": {
        "id": "QkaFI6VCphyq"
      }
    },
    {
      "cell_type": "code",
      "source": [
        "valid_sets = np.random.choice(train_data.shape[0], int(train_data.shape[0]*0.2), replace=False)\n",
        "\n",
        "rest_train = list(set(range(train_data.shape[0])).difference(set(valid_sets)))\n",
        "\n",
        "rest_train_data = np.array(pd.DataFrame(train_data).iloc[rest_train])\n",
        "rest_train_labels = np.array(pd.DataFrame(train_labels).iloc[rest_train])\n",
        "\n",
        "valid_data = np.array(pd.DataFrame(train_data).iloc[valid_sets])\n",
        "valid_labels = np.array(pd.DataFrame(train_labels).iloc[valid_sets])\n",
        "\n",
        "\n",
        "print(f\"The remaining training set shape is {rest_train_data.shape}\")\n",
        "print(f\"The validation set shape is {valid_data.shape}\")\n"
      ],
      "metadata": {
        "colab": {
          "base_uri": "https://localhost:8080/"
        },
        "id": "iV6t2zINpqV9",
        "outputId": "e661e132-8471-4d7a-fc68-01c9d0fc02f5"
      },
      "execution_count": 18,
      "outputs": [
        {
          "output_type": "stream",
          "name": "stdout",
          "text": [
            "The remaining training set shape is (43896, 10)\n",
            "The validation set shape is (10974, 10)\n"
          ]
        }
      ]
    },
    {
      "cell_type": "markdown",
      "source": [
        "<b>Define function to build sequenital models, apply random search for hyperparameter tuning</b>"
      ],
      "metadata": {
        "id": "aTD7DeTHr6O9"
      }
    },
    {
      "cell_type": "code",
      "metadata": {
        "id": "zCkmp3IOr7DN"
      },
      "source": [
        "\n",
        "\n",
        "def build_model(hp):\n",
        "    model = Sequential()\n",
        "    for i in range(hp.Int('layers', 2, 10)):\n",
        "        model.add(Dense(units=hp.Int('units_' + str(i),\n",
        "                                            min_value=100,\n",
        "                                            max_value=10000,\n",
        "                                            step=32),\n",
        "                        input_dim=train_data.shape[1],\n",
        "                               activation='relu'))\n",
        "        \n",
        "    model.add(Dense(1, activation='sigmoid'))\n",
        "\n",
        "    \n",
        "    \n",
        "    \n",
        "    model.compile(\n",
        "        optimizer=Adam(\n",
        "            hp.Choice('learning_rate', [1e-2, 1e-3, 1e-4])),\n",
        "        loss='binary_crossentropy',\n",
        "        metrics=['accuracy'])\n",
        "    \n",
        "    return model\n",
        "\n",
        "\n",
        "\n"
      ],
      "execution_count": 22,
      "outputs": []
    },
    {
      "cell_type": "code",
      "metadata": {
        "colab": {
          "base_uri": "https://localhost:8080/"
        },
        "id": "WgBQt-WNZTMa",
        "outputId": "010cc0ad-e192-4264-810f-a735ef9956af"
      },
      "source": [
        "tuner = RandomSearch(\n",
        "    build_model,\n",
        "    objective='val_accuracy',\n",
        "    max_trials=3,\n",
        "    executions_per_trial=2,\n",
        "    overwrite=False,\n",
        "    directory='drive/MyDrive/',\n",
        "    project_name='20211206_catboost_Cardiovascular_Prediction_3_trials')\n",
        " \n",
        "tuner.search(rest_train_data,rest_train_labels,batch_size=128,epochs=200,validation_data=(valid_data,valid_labels))\n",
        "\n"
      ],
      "execution_count": 23,
      "outputs": [
        {
          "output_type": "stream",
          "name": "stdout",
          "text": [
            "Trial 3 Complete [00h 09m 47s]\n",
            "val_accuracy: 0.7365591526031494\n",
            "\n",
            "Best val_accuracy So Far: 0.7365591526031494\n",
            "Total elapsed time: 01h 25m 14s\n",
            "INFO:tensorflow:Oracle triggered exit\n"
          ]
        }
      ]
    },
    {
      "cell_type": "markdown",
      "source": [
        "<b>Obtain the best model based on random search results from tuner</b>"
      ],
      "metadata": {
        "id": "_dmAgeQ7sWT8"
      }
    },
    {
      "cell_type": "code",
      "source": [
        "best_model = tuner.get_best_models(num_models=1)[0]\n",
        "\n",
        "best_model.summary()\n",
        "\n"
      ],
      "metadata": {
        "colab": {
          "base_uri": "https://localhost:8080/"
        },
        "id": "5rEyAEnB7csV",
        "outputId": "c03f4a35-08b4-4e07-c3a2-68b1a3132a77"
      },
      "execution_count": 24,
      "outputs": [
        {
          "output_type": "stream",
          "name": "stdout",
          "text": [
            "Model: \"sequential\"\n",
            "_________________________________________________________________\n",
            " Layer (type)                Output Shape              Param #   \n",
            "=================================================================\n",
            " dense (Dense)               (None, 5540)              60940     \n",
            "                                                                 \n",
            " dense_1 (Dense)             (None, 804)               4454964   \n",
            "                                                                 \n",
            " dense_2 (Dense)             (None, 1)                 805       \n",
            "                                                                 \n",
            "=================================================================\n",
            "Total params: 4,516,709\n",
            "Trainable params: 4,516,709\n",
            "Non-trainable params: 0\n",
            "_________________________________________________________________\n"
          ]
        }
      ]
    },
    {
      "cell_type": "markdown",
      "source": [
        "<b>Make prediction on test data with best model, obtain confusion matrix, test accuracy and AUC scores</b>"
      ],
      "metadata": {
        "id": "EHZJ_0K_DG0G"
      }
    },
    {
      "cell_type": "code",
      "source": [
        "best_model.evaluate(test_data, test_labels)"
      ],
      "metadata": {
        "colab": {
          "base_uri": "https://localhost:8080/"
        },
        "id": "u-ML2a3r544H",
        "outputId": "a89c6bea-cea3-4e3d-a527-b42b974d002e"
      },
      "execution_count": 25,
      "outputs": [
        {
          "output_type": "stream",
          "name": "stdout",
          "text": [
            "429/429 [==============================] - 1s 2ms/step - loss: 0.5418 - accuracy: 0.7363\n"
          ]
        },
        {
          "output_type": "execute_result",
          "data": {
            "text/plain": [
              "[0.5417953729629517, 0.7362589240074158]"
            ]
          },
          "metadata": {},
          "execution_count": 25
        }
      ]
    },
    {
      "cell_type": "code",
      "metadata": {
        "colab": {
          "base_uri": "https://localhost:8080/"
        },
        "id": "XLCMBYvvKBzl",
        "outputId": "d34785d9-5019-4b59-d2ce-2328d3e69d90"
      },
      "source": [
        "#make predictions\n",
        "\n",
        "result = best_model.predict(test_data) # Prediction using model\n",
        "\n",
        "\n",
        "#create new labels\n",
        "\n",
        "new_label = [int(x>=0.5) for x in result]\n",
        "\n",
        "\n",
        "#Calculate confusion matrix\n",
        "cnf_matrix= confusion_matrix(test_labels, new_label)\n",
        "print(f\"With Multilayer perceptron network, the confusion matrix is:\\n{cnf_matrix}\")\n",
        "\n",
        "\n",
        "#Calculate test accuracy\n",
        "accuracy = np.sum(new_label - test_labels == 0) / len(result)\n",
        "print(f\"The test accuracy is {accuracy}\")\n",
        "\n",
        "\n",
        "#Calculate auc score\n",
        "auc_score = roc_auc_score(test_labels, new_label)\n",
        "print(f\"The auc score is {auc_score}\")"
      ],
      "execution_count": 27,
      "outputs": [
        {
          "output_type": "stream",
          "name": "stdout",
          "text": [
            "With Multilayer perceptron network, the confusion matrix is:\n",
            "[[5517 1479]\n",
            " [2139 4583]]\n",
            "The test accuracy is 0.7362589298731593\n",
            "The auc score is 0.7351923077904509\n"
          ]
        }
      ]
    }
  ]
}